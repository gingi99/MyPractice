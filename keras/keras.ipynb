{
 "cells": [
  {
   "cell_type": "code",
   "execution_count": 32,
   "metadata": {
    "collapsed": false
   },
   "outputs": [],
   "source": [
    "import keras\n",
    "from keras.models import Sequential  \n",
    "from keras.layers.core import Dense, Activation  \n",
    "from keras.layers.recurrent import LSTM"
   ]
  },
  {
   "cell_type": "code",
   "execution_count": 33,
   "metadata": {
    "collapsed": true
   },
   "outputs": [],
   "source": [
    "import pandas as pd\n",
    "import numpy as np\n",
    "import math\n",
    "import random\n",
    "%matplotlib inline"
   ]
  },
  {
   "cell_type": "markdown",
   "metadata": {},
   "source": [
    "### データ作成"
   ]
  },
  {
   "cell_type": "code",
   "execution_count": 6,
   "metadata": {
    "collapsed": false
   },
   "outputs": [],
   "source": [
    "random.seed(42)\n",
    "# 乱数の係数\n",
    "random_factor = 0.05\n",
    "# サイクルあたりのステップ数\n",
    "steps_per_cycle = 80\n",
    "# 生成するサイクル数\n",
    "number_of_cycles = 50"
   ]
  },
  {
   "cell_type": "code",
   "execution_count": 7,
   "metadata": {
    "collapsed": false
   },
   "outputs": [
    {
     "data": {
      "text/plain": [
       "<matplotlib.axes._subplots.AxesSubplot at 0x10e1ba4a8>"
      ]
     },
     "execution_count": 7,
     "metadata": {},
     "output_type": "execute_result"
    },
    {
     "data": {
      "image/png": "[encoded data removed]",
      "text/plain": [
       "<matplotlib.figure.Figure at 0x10e1eb860>"
      ]
     },
     "metadata": {},
     "output_type": "display_data"
    }
   ],
   "source": [
    "df = pd.DataFrame(np.arange(steps_per_cycle * number_of_cycles + 1), columns=[\"t\"])\n",
    "df[\"sin_t\"] = df.t.apply(lambda x: math.sin(x * (2 * math.pi / steps_per_cycle)+ random.uniform(-1.0, +1.0) * random_factor))\n",
    "df[[\"sin_t\"]].head(steps_per_cycle * 2).plot()"
   ]
  },
  {
   "cell_type": "code",
   "execution_count": 25,
   "metadata": {
    "collapsed": false
   },
   "outputs": [
    {
     "name": "stdout",
     "output_type": "stream",
     "text": [
      "   t     sin_t\n",
      "0  0  0.013942\n",
      "1  1  0.031036\n",
      "2  2  0.134177\n",
      "3  3  0.206445\n",
      "4  4  0.331418\n",
      "         t     sin_t\n",
      "3996  3996 -0.298084\n",
      "3997  3997 -0.278004\n",
      "3998  3998 -0.128338\n",
      "3999  3999 -0.078127\n",
      "4000  4000 -0.038239\n",
      "(4001, 2)\n"
     ]
    }
   ],
   "source": [
    "print(df.head())\n",
    "print(df.tail())\n",
    "print(df.shape)"
   ]
  },
  {
   "cell_type": "markdown",
   "metadata": {},
   "source": [
    "### データ整形\n",
    "- 0-99番目の100個の入力があったら、100番目を予測するデータを作る。つまり、１レコード、100次元。"
   ]
  },
  {
   "cell_type": "code",
   "execution_count": 8,
   "metadata": {
    "collapsed": true
   },
   "outputs": [],
   "source": [
    "def _load_data(data, n_prev = 100):  \n",
    "    \"\"\"\n",
    "    data should be pd.DataFrame()\n",
    "    \"\"\"\n",
    "\n",
    "    docX, docY = [], []\n",
    "    for i in range(len(data)-n_prev):\n",
    "        docX.append(data.iloc[i:i+n_prev].as_matrix())\n",
    "        docY.append(data.iloc[i+n_prev].as_matrix())\n",
    "    alsX = np.array(docX)\n",
    "    alsY = np.array(docY)\n",
    "\n",
    "    return alsX, alsY\n",
    "\n",
    "def train_test_split(df, test_size=0.1, n_prev = 100):  \n",
    "    \"\"\"\n",
    "    This just splits data to training and testing parts\n",
    "    \"\"\"\n",
    "    ntrn = round(len(df) * (1 - test_size))\n",
    "    ntrn = int(ntrn)\n",
    "    X_train, y_train = _load_data(df.iloc[0:ntrn], n_prev)\n",
    "    X_test, y_test = _load_data(df.iloc[ntrn:], n_prev)\n",
    "\n",
    "    return (X_train, y_train), (X_test, y_test)\n"
   ]
  },
  {
   "cell_type": "code",
   "execution_count": 9,
   "metadata": {
    "collapsed": true
   },
   "outputs": [],
   "source": [
    "length_of_sequences = 100\n",
    "(X_train, y_train), (X_test, y_test) = train_test_split(df[[\"sin_t\"]], n_prev =length_of_sequences)  "
   ]
  },
  {
   "cell_type": "code",
   "execution_count": 31,
   "metadata": {
    "collapsed": false
   },
   "outputs": [
    {
     "data": {
      "text/plain": [
       "array([[[ 0.01394223],\n",
       "        [ 0.03103591],\n",
       "        [ 0.13417666],\n",
       "        ..., \n",
       "        [ 0.97304546],\n",
       "        [ 0.99395919],\n",
       "        [ 0.99909863]],\n",
       "\n",
       "       [[ 0.03103591],\n",
       "        [ 0.13417666],\n",
       "        [ 0.20644523],\n",
       "        ..., \n",
       "        [ 0.99395919],\n",
       "        [ 0.99909863],\n",
       "        [ 0.99880698]],\n",
       "\n",
       "       [[ 0.13417666],\n",
       "        [ 0.20644523],\n",
       "        [ 0.33141825],\n",
       "        ..., \n",
       "        [ 0.99909863],\n",
       "        [ 0.99880698],\n",
       "        [ 0.99494288]],\n",
       "\n",
       "       ..., \n",
       "       [[-0.98755734],\n",
       "        [-0.99454999],\n",
       "        [-0.99889502],\n",
       "        ..., \n",
       "        [-0.40118282],\n",
       "        [-0.28979232],\n",
       "        [-0.198227  ]],\n",
       "\n",
       "       [[-0.99454999],\n",
       "        [-0.99889502],\n",
       "        [-0.99943642],\n",
       "        ..., \n",
       "        [-0.28979232],\n",
       "        [-0.198227  ],\n",
       "        [-0.13547434]],\n",
       "\n",
       "       [[-0.99889502],\n",
       "        [-0.99943642],\n",
       "        [-0.99164591],\n",
       "        ..., \n",
       "        [-0.198227  ],\n",
       "        [-0.13547434],\n",
       "        [-0.03498147]]])"
      ]
     },
     "execution_count": 31,
     "metadata": {},
     "output_type": "execute_result"
    }
   ],
   "source": [
    "X_train"
   ]
  },
  {
   "cell_type": "code",
   "execution_count": 36,
   "metadata": {
    "collapsed": false
   },
   "outputs": [
    {
     "data": {
      "text/html": [
       "<div>\n",
       "<table border=\"1\" class=\"dataframe\">\n",
       "  <thead>\n",
       "    <tr style=\"text-align: right;\">\n",
       "      <th></th>\n",
       "      <th>t</th>\n",
       "      <th>sin_t</th>\n",
       "    </tr>\n",
       "  </thead>\n",
       "  <tbody>\n",
       "    <tr>\n",
       "      <th>100</th>\n",
       "      <td>100</td>\n",
       "      <td>0.998807</td>\n",
       "    </tr>\n",
       "    <tr>\n",
       "      <th>101</th>\n",
       "      <td>101</td>\n",
       "      <td>0.994943</td>\n",
       "    </tr>\n",
       "    <tr>\n",
       "      <th>102</th>\n",
       "      <td>102</td>\n",
       "      <td>0.984683</td>\n",
       "    </tr>\n",
       "  </tbody>\n",
       "</table>\n",
       "</div>"
      ],
      "text/plain": [
       "       t     sin_t\n",
       "100  100  0.998807\n",
       "101  101  0.994943\n",
       "102  102  0.984683"
      ]
     },
     "execution_count": 36,
     "metadata": {},
     "output_type": "execute_result"
    }
   ],
   "source": [
    "df.ix[100:102,]"
   ]
  },
  {
   "cell_type": "code",
   "execution_count": 30,
   "metadata": {
    "collapsed": false
   },
   "outputs": [
    {
     "data": {
      "text/plain": [
       "array([[ 0.99880698],\n",
       "       [ 0.99494288],\n",
       "       [ 0.98468286],\n",
       "       ..., \n",
       "       [-0.13547434],\n",
       "       [-0.03498147],\n",
       "       [ 0.01325794]])"
      ]
     },
     "execution_count": 30,
     "metadata": {},
     "output_type": "execute_result"
    }
   ],
   "source": [
    "y_train"
   ]
  },
  {
   "cell_type": "code",
   "execution_count": 27,
   "metadata": {
    "collapsed": false
   },
   "outputs": [
    {
     "name": "stdout",
     "output_type": "stream",
     "text": [
      "(3501, 100, 1)\n",
      "(300, 100, 1)\n",
      "(3501, 1)\n",
      "(300, 1)\n"
     ]
    }
   ],
   "source": [
    "print(X_train.shape)\n",
    "print(X_test.shape)\n",
    "print(y_train.shape)\n",
    "print(y_test.shape)"
   ]
  },
  {
   "cell_type": "markdown",
   "metadata": {},
   "source": [
    "### Kerasのモデル生成\n",
    "- (, 100, 1)のtensorを持った入力を３００個のLSTM中間層に投げ，それを1個の出力層に集約し，linear活性化関数を掛け合わせる"
   ]
  },
  {
   "cell_type": "code",
   "execution_count": 37,
   "metadata": {
    "collapsed": true
   },
   "outputs": [],
   "source": [
    "in_out_neurons = 1\n",
    "hidden_neurons = 300"
   ]
  },
  {
   "cell_type": "code",
   "execution_count": 10,
   "metadata": {
    "collapsed": false
   },
   "outputs": [
    {
     "name": "stdout",
     "output_type": "stream",
     "text": [
      "Train on 3325 samples, validate on 176 samples\n",
      "Epoch 1/15\n",
      "3325/3325 [==============================] - 150s - loss: 0.2274 - val_loss: 0.0113\n",
      "Epoch 2/15\n",
      "3325/3325 [==============================] - 127s - loss: 0.0205 - val_loss: 0.0012\n",
      "Epoch 3/15\n",
      "3325/3325 [==============================] - 122s - loss: 0.0011 - val_loss: 0.0023\n",
      "Epoch 4/15\n",
      "3325/3325 [==============================] - 114s - loss: 0.0113 - val_loss: 0.0212\n",
      "Epoch 5/15\n",
      "3325/3325 [==============================] - 117s - loss: 0.0082 - val_loss: 0.0077\n",
      "Epoch 6/15\n",
      "3325/3325 [==============================] - 123s - loss: 0.0097 - val_loss: 0.0108\n",
      "Epoch 7/15\n",
      "3325/3325 [==============================] - 115s - loss: 0.0061 - val_loss: 0.0090\n",
      "Epoch 8/15\n",
      "3325/3325 [==============================] - 116s - loss: 0.0083 - val_loss: 0.0128\n",
      "Epoch 9/15\n",
      "3325/3325 [==============================] - 117s - loss: 0.0115 - val_loss: 0.0086\n",
      "Epoch 10/15\n",
      "3325/3325 [==============================] - 116s - loss: 0.0046 - val_loss: 0.0057\n",
      "Epoch 11/15\n",
      "3325/3325 [==============================] - 114s - loss: 0.0058 - val_loss: 0.0073\n",
      "Epoch 12/15\n",
      "3325/3325 [==============================] - 108s - loss: 0.0065 - val_loss: 0.0076\n",
      "Epoch 13/15\n",
      "3325/3325 [==============================] - 68s - loss: 0.0070 - val_loss: 0.0168\n",
      "Epoch 14/15\n",
      "3325/3325 [==============================] - 66s - loss: 0.0114 - val_loss: 0.0014\n",
      "Epoch 15/15\n",
      "3325/3325 [==============================] - 66s - loss: 8.6031e-04 - val_loss: 7.1169e-04\n"
     ]
    },
    {
     "data": {
      "text/plain": [
       "<keras.callbacks.History at 0x10dff2a20>"
      ]
     },
     "execution_count": 10,
     "metadata": {},
     "output_type": "execute_result"
    }
   ],
   "source": [
    "model = Sequential()  \n",
    "model.add(LSTM(hidden_neurons, batch_input_shape=(None, length_of_sequences, in_out_neurons), return_sequences=False))  \n",
    "model.add(Dense(in_out_neurons))  \n",
    "model.add(Activation(\"linear\"))  \n",
    "model.compile(loss=\"mean_squared_error\", optimizer=\"rmsprop\")\n",
    "model.fit(X_train, y_train, batch_size=600, nb_epoch=15, validation_split=0.05) "
   ]
  },
  {
   "cell_type": "code",
   "execution_count": 11,
   "metadata": {
    "collapsed": true
   },
   "outputs": [],
   "source": [
    "predicted = model.predict(X_test) "
   ]
  },
  {
   "cell_type": "code",
   "execution_count": 12,
   "metadata": {
    "collapsed": false
   },
   "outputs": [
    {
     "data": {
      "text/plain": [
       "<matplotlib.axes._subplots.AxesSubplot at 0x1113cc4a8>"
      ]
     },
     "execution_count": 12,
     "metadata": {},
     "output_type": "execute_result"
    },
    {
     "data": {
      "image/png": "[encoded data removed]",
      "text/plain": [
       "<matplotlib.figure.Figure at 0x10e1f3f60>"
      ]
     },
     "metadata": {},
     "output_type": "display_data"
    }
   ],
   "source": [
    "dataf =  pd.DataFrame(predicted[:200])\n",
    "dataf.columns = [\"predict\"]\n",
    "dataf[\"input\"] = y_test[:200]\n",
    "dataf.plot(figsize=(15, 5))"
   ]
  },
  {
   "cell_type": "code",
   "execution_count": 16,
   "metadata": {
    "collapsed": false
   },
   "outputs": [
    {
     "data": {
      "image/svg+xml": [
       "<svg height=\"296pt\" viewBox=\"0.00 0.00 320.80 296.00\" width=\"321pt\" xmlns=\"http://www.w3.org/2000/svg\" xmlns:xlink=\"http://www.w3.org/1999/xlink\">\n",
       "<g class=\"graph\" id=\"graph0\" transform=\"scale(1 1) rotate(0) translate(4 292)\">\n",
       "<title>G</title>\n",
       "<polygon fill=\"white\" points=\"-4,4 -4,-292 316.797,-292 316.797,4 -4,4\" stroke=\"none\"/>\n",
       "<!-- 4532947600 -->\n",
       "<g class=\"node\" id=\"node1\"><title>4532947600</title>\n",
       "<polygon fill=\"none\" points=\"0,-243.5 0,-287.5 312.797,-287.5 312.797,-243.5 0,-243.5\" stroke=\"black\"/>\n",
       "<text font-family=\"Times,serif\" font-size=\"14.00\" text-anchor=\"middle\" x=\"79.7397\" y=\"-261.3\">lstm_input_1: InputLayer</text>\n",
       "<polyline fill=\"none\" points=\"159.479,-243.5 159.479,-287.5 \" stroke=\"black\"/>\n",
       "<text font-family=\"Times,serif\" font-size=\"14.00\" text-anchor=\"middle\" x=\"187.314\" y=\"-272.3\">input:</text>\n",
       "<polyline fill=\"none\" points=\"159.479,-265.5 215.148,-265.5 \" stroke=\"black\"/>\n",
       "<text font-family=\"Times,serif\" font-size=\"14.00\" text-anchor=\"middle\" x=\"187.314\" y=\"-250.3\">output:</text>\n",
       "<polyline fill=\"none\" points=\"215.148,-243.5 215.148,-287.5 \" stroke=\"black\"/>\n",
       "<text font-family=\"Times,serif\" font-size=\"14.00\" text-anchor=\"middle\" x=\"263.973\" y=\"-272.3\">(None, 100, 1)</text>\n",
       "<polyline fill=\"none\" points=\"215.148,-265.5 312.797,-265.5 \" stroke=\"black\"/>\n",
       "<text font-family=\"Times,serif\" font-size=\"14.00\" text-anchor=\"middle\" x=\"263.973\" y=\"-250.3\">(None, 100, 1)</text>\n",
       "</g>\n",
       "<!-- 4532971000 -->\n",
       "<g class=\"node\" id=\"node2\"><title>4532971000</title>\n",
       "<polygon fill=\"none\" points=\"30.3174,-162.5 30.3174,-206.5 282.479,-206.5 282.479,-162.5 30.3174,-162.5\" stroke=\"black\"/>\n",
       "<text font-family=\"Times,serif\" font-size=\"14.00\" text-anchor=\"middle\" x=\"79.7397\" y=\"-180.3\">lstm_1: LSTM</text>\n",
       "<polyline fill=\"none\" points=\"129.162,-162.5 129.162,-206.5 \" stroke=\"black\"/>\n",
       "<text font-family=\"Times,serif\" font-size=\"14.00\" text-anchor=\"middle\" x=\"156.997\" y=\"-191.3\">input:</text>\n",
       "<polyline fill=\"none\" points=\"129.162,-184.5 184.831,-184.5 \" stroke=\"black\"/>\n",
       "<text font-family=\"Times,serif\" font-size=\"14.00\" text-anchor=\"middle\" x=\"156.997\" y=\"-169.3\">output:</text>\n",
       "<polyline fill=\"none\" points=\"184.831,-162.5 184.831,-206.5 \" stroke=\"black\"/>\n",
       "<text font-family=\"Times,serif\" font-size=\"14.00\" text-anchor=\"middle\" x=\"233.655\" y=\"-191.3\">(None, 100, 1)</text>\n",
       "<polyline fill=\"none\" points=\"184.831,-184.5 282.479,-184.5 \" stroke=\"black\"/>\n",
       "<text font-family=\"Times,serif\" font-size=\"14.00\" text-anchor=\"middle\" x=\"233.655\" y=\"-169.3\">(None, 300)</text>\n",
       "</g>\n",
       "<!-- 4532947600&#45;&gt;4532971000 -->\n",
       "<g class=\"edge\" id=\"edge1\"><title>4532947600-&gt;4532971000</title>\n",
       "<path d=\"M156.398,-243.329C156.398,-235.183 156.398,-225.699 156.398,-216.797\" fill=\"none\" stroke=\"black\"/>\n",
       "<polygon fill=\"black\" points=\"159.899,-216.729 156.398,-206.729 152.899,-216.729 159.899,-216.729\" stroke=\"black\"/>\n",
       "</g>\n",
       "<!-- 4532736856 -->\n",
       "<g class=\"node\" id=\"node3\"><title>4532736856</title>\n",
       "<polygon fill=\"none\" points=\"34.6138,-81.5 34.6138,-125.5 278.183,-125.5 278.183,-81.5 34.6138,-81.5\" stroke=\"black\"/>\n",
       "<text font-family=\"Times,serif\" font-size=\"14.00\" text-anchor=\"middle\" x=\"86.7397\" y=\"-99.3\">dense_1: Dense</text>\n",
       "<polyline fill=\"none\" points=\"138.866,-81.5 138.866,-125.5 \" stroke=\"black\"/>\n",
       "<text font-family=\"Times,serif\" font-size=\"14.00\" text-anchor=\"middle\" x=\"166.7\" y=\"-110.3\">input:</text>\n",
       "<polyline fill=\"none\" points=\"138.866,-103.5 194.535,-103.5 \" stroke=\"black\"/>\n",
       "<text font-family=\"Times,serif\" font-size=\"14.00\" text-anchor=\"middle\" x=\"166.7\" y=\"-88.3\">output:</text>\n",
       "<polyline fill=\"none\" points=\"194.535,-81.5 194.535,-125.5 \" stroke=\"black\"/>\n",
       "<text font-family=\"Times,serif\" font-size=\"14.00\" text-anchor=\"middle\" x=\"236.359\" y=\"-110.3\">(None, 300)</text>\n",
       "<polyline fill=\"none\" points=\"194.535,-103.5 278.183,-103.5 \" stroke=\"black\"/>\n",
       "<text font-family=\"Times,serif\" font-size=\"14.00\" text-anchor=\"middle\" x=\"236.359\" y=\"-88.3\">(None, 1)</text>\n",
       "</g>\n",
       "<!-- 4532971000&#45;&gt;4532736856 -->\n",
       "<g class=\"edge\" id=\"edge2\"><title>4532971000-&gt;4532736856</title>\n",
       "<path d=\"M156.398,-162.329C156.398,-154.183 156.398,-144.699 156.398,-135.797\" fill=\"none\" stroke=\"black\"/>\n",
       "<polygon fill=\"black\" points=\"159.899,-135.729 156.398,-125.729 152.899,-135.729 159.899,-135.729\" stroke=\"black\"/>\n",
       "</g>\n",
       "<!-- 4532969992 -->\n",
       "<g class=\"node\" id=\"node4\"><title>4532969992</title>\n",
       "<polygon fill=\"none\" points=\"18.2793,-0.5 18.2793,-44.5 294.518,-44.5 294.518,-0.5 18.2793,-0.5\" stroke=\"black\"/>\n",
       "<text font-family=\"Times,serif\" font-size=\"14.00\" text-anchor=\"middle\" x=\"93.7397\" y=\"-18.3\">activation_1: Activation</text>\n",
       "<polyline fill=\"none\" points=\"169.2,-0.5 169.2,-44.5 \" stroke=\"black\"/>\n",
       "<text font-family=\"Times,serif\" font-size=\"14.00\" text-anchor=\"middle\" x=\"197.035\" y=\"-29.3\">input:</text>\n",
       "<polyline fill=\"none\" points=\"169.2,-22.5 224.869,-22.5 \" stroke=\"black\"/>\n",
       "<text font-family=\"Times,serif\" font-size=\"14.00\" text-anchor=\"middle\" x=\"197.035\" y=\"-7.3\">output:</text>\n",
       "<polyline fill=\"none\" points=\"224.869,-0.5 224.869,-44.5 \" stroke=\"black\"/>\n",
       "<text font-family=\"Times,serif\" font-size=\"14.00\" text-anchor=\"middle\" x=\"259.693\" y=\"-29.3\">(None, 1)</text>\n",
       "<polyline fill=\"none\" points=\"224.869,-22.5 294.518,-22.5 \" stroke=\"black\"/>\n",
       "<text font-family=\"Times,serif\" font-size=\"14.00\" text-anchor=\"middle\" x=\"259.693\" y=\"-7.3\">(None, 1)</text>\n",
       "</g>\n",
       "<!-- 4532736856&#45;&gt;4532969992 -->\n",
       "<g class=\"edge\" id=\"edge3\"><title>4532736856-&gt;4532969992</title>\n",
       "<path d=\"M156.398,-81.3294C156.398,-73.1826 156.398,-63.6991 156.398,-54.7971\" fill=\"none\" stroke=\"black\"/>\n",
       "<polygon fill=\"black\" points=\"159.899,-54.729 156.398,-44.729 152.899,-54.729 159.899,-54.729\" stroke=\"black\"/>\n",
       "</g>\n",
       "</g>\n",
       "</svg>"
      ],
      "text/plain": [
       "<IPython.core.display.SVG object>"
      ]
     },
     "execution_count": 16,
     "metadata": {},
     "output_type": "execute_result"
    }
   ],
   "source": [
    "from IPython.display import SVG\n",
    "from keras.utils.visualize_util import model_to_dot, plot\n",
    "SVG(model_to_dot(model, show_shapes=True).create(prog='dot', format='svg'))"
   ]
  },
  {
   "cell_type": "code",
   "execution_count": null,
   "metadata": {
    "collapsed": true
   },
   "outputs": [],
   "source": []
  }
 ],
 "metadata": {
  "kernelspec": {
   "display_name": "Python 3",
   "language": "python",
   "name": "python3"
  },
  "language_info": {
   "codemirror_mode": {
    "name": "ipython",
    "version": 3
   },
   "file_extension": ".py",
   "mimetype": "text/x-python",
   "name": "python",
   "nbconvert_exporter": "python",
   "pygments_lexer": "ipython3",
   "version": "3.5.1"
  }
 },
 "nbformat": 4,
 "nbformat_minor": 0
}
