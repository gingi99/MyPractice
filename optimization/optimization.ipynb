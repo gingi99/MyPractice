{
 "cells": [
  {
   "cell_type": "code",
   "execution_count": 85,
   "metadata": {
    "collapsed": false
   },
   "outputs": [],
   "source": [
    "#coding: utf-8\n",
    "import numpy as np\n",
    "import itertools\n",
    "from scipy import optimize\n",
    "from sklearn import datasets\n",
    "from sklearn import neighbors\n",
    "from sklearn.metrics.pairwise import euclidean_distances\n",
    "from sklearn.metrics.pairwise import pairwise_distances\n",
    "import pulp"
   ]
  },
  {
   "cell_type": "markdown",
   "metadata": {},
   "source": [
    "### 線形計画問題　最大化"
   ]
  },
  {
   "cell_type": "code",
   "execution_count": 2,
   "metadata": {
    "collapsed": true
   },
   "outputs": [],
   "source": [
    "problem = pulp.LpProblem('hamburg and omelet', pulp.LpMaximize)\n",
    "\n",
    "# create variables\n",
    "x = pulp.LpVariable('x', cat = 'Integer')\n",
    "y = pulp.LpVariable('y', cat = 'Integer')\n",
    "\n",
    "# maximize\n",
    "problem += 400 * x + 300 * y\n",
    "\n",
    "# subjects\n",
    "problem += 60 * x + 40 * y <= 3800\n",
    "problem += 20 * x + 30 * y <= 2100\n",
    "problem += 20 * x + 10 * y <= 1200"
   ]
  },
  {
   "cell_type": "code",
   "execution_count": 5,
   "metadata": {
    "collapsed": false
   },
   "outputs": [
    {
     "name": "stdout",
     "output_type": "stream",
     "text": [
      "hamburg and omelet:\n",
      "MAXIMIZE\n",
      "400*x + 300*y + 0\n",
      "SUBJECT TO\n",
      "_C1: 60 x + 40 y <= 3800\n",
      "\n",
      "_C2: 20 x + 30 y <= 2100\n",
      "\n",
      "_C3: 20 x + 10 y <= 1200\n",
      "\n",
      "VARIABLES\n",
      "x free Integer\n",
      "y free Integer\n",
      "\n"
     ]
    }
   ],
   "source": [
    "print(problem)"
   ]
  },
  {
   "cell_type": "code",
   "execution_count": 7,
   "metadata": {
    "collapsed": false
   },
   "outputs": [
    {
     "name": "stdout",
     "output_type": "stream",
     "text": [
      "Optimal\n"
     ]
    }
   ],
   "source": [
    "status = problem.solve()\n",
    "print(pulp.LpStatus[status])"
   ]
  },
  {
   "cell_type": "code",
   "execution_count": 8,
   "metadata": {
    "collapsed": false
   },
   "outputs": [
    {
     "name": "stdout",
     "output_type": "stream",
     "text": [
      "Result\n",
      "x 30.0\n",
      "y 50.0\n"
     ]
    }
   ],
   "source": [
    "print(\"Result\")\n",
    "print(\"x\", x.value())\n",
    "print(\"y\", y.value())"
   ]
  },
  {
   "cell_type": "code",
   "execution_count": 9,
   "metadata": {
    "collapsed": false
   },
   "outputs": [
    {
     "name": "stdout",
     "output_type": "stream",
     "text": [
      "MAX VALUE 400 * 30 + 300 * 50 = 27000\n"
     ]
    }
   ],
   "source": [
    "max_value = 400 * x.value() + 300 * y.value()\n",
    "print(\"MAX VALUE\", \"400 * %d + 300 * %d = %d\" % (x.value(), y.value(), max_value))"
   ]
  },
  {
   "cell_type": "markdown",
   "metadata": {},
   "source": [
    "### scipy"
   ]
  },
  {
   "cell_type": "markdown",
   "metadata": {},
   "source": [
    "#### 簡単な例\n",
    "- 共役勾配法のfmin_cg()\n",
    "- BFGSアルゴリズムのfmin_bfgs()"
   ]
  },
  {
   "cell_type": "code",
   "execution_count": 13,
   "metadata": {
    "collapsed": false
   },
   "outputs": [],
   "source": [
    "def J(theta, *args):\n",
    "    \"\"\"最小化を目指すコスト関数を返す\"\"\"\n",
    "    theta1, theta2 = theta\n",
    "    return (theta1 - 5) ** 2 + (theta2 - 5) ** 2\n",
    "\n",
    "def gradient(theta, *args):\n",
    "    \"\"\"コスト関数の偏微分を返す各パラメータで偏微分した関数リストを返す\"\"\"\n",
    "    theta1, theta2 = theta\n",
    "    # Jをtheta1で偏微分した関数\n",
    "    gt1 = 2 * (theta1 - 5)\n",
    "    # Jをtheta2で偏微分した関数\n",
    "    gt2 = 2 * (theta2 - 5)\n",
    "    return np.array((gt1, gt2))\n",
    "\n",
    "# パラメータの初期値\n",
    "initial_theta = np.array([0, 0])"
   ]
  },
  {
   "cell_type": "code",
   "execution_count": 14,
   "metadata": {
    "collapsed": false
   },
   "outputs": [
    {
     "name": "stdout",
     "output_type": "stream",
     "text": [
      "Optimization terminated successfully.\n",
      "         Current function value: 0.000000\n",
      "         Iterations: 2\n",
      "         Function evaluations: 5\n",
      "         Gradient evaluations: 5\n",
      "conjugate gradient: [ 4.99999995  4.99999995]\n"
     ]
    }
   ],
   "source": [
    "# Conjugate Gradientによるコスト関数最小化\n",
    "theta = optimize.fmin_cg(J, initial_theta, fprime=gradient)\n",
    "print(\"conjugate gradient:\", theta)"
   ]
  },
  {
   "cell_type": "code",
   "execution_count": 15,
   "metadata": {
    "collapsed": false
   },
   "outputs": [
    {
     "name": "stdout",
     "output_type": "stream",
     "text": [
      "Optimization terminated successfully.\n",
      "         Current function value: 0.000000\n",
      "         Iterations: 2\n",
      "         Function evaluations: 4\n",
      "         Gradient evaluations: 4\n",
      "BFGS: [ 5.  5.]\n"
     ]
    }
   ],
   "source": [
    "# BFGSによるコスト関数最小化\n",
    "theta = optimize.fmin_bfgs(J, initial_theta, fprime=gradient)\n",
    "print(\"BFGS:\", theta)"
   ]
  },
  {
   "cell_type": "markdown",
   "metadata": {},
   "source": [
    "#### 違う例"
   ]
  },
  {
   "cell_type": "code",
   "execution_count": 19,
   "metadata": {
    "collapsed": true
   },
   "outputs": [],
   "source": [
    "def J(param, *args):\n",
    "    \"\"\"最小化を目指すコスト関数を返す\"\"\"\n",
    "    u, v = param\n",
    "    # パラメータ以外のデータはargsを通して渡す\n",
    "    a, b, c, d, e, f = args\n",
    "    return a*u**2 + b*u*v + c*v**2 + d*u + e*v + f\n",
    "\n",
    "def gradient(param, *args):\n",
    "    \"\"\"コスト関数の偏微分を返す各パラメータで偏微分した関数リストを返す\"\"\"\n",
    "    u, v = param\n",
    "    a, b, c, d, e, f = args\n",
    "    gu = 2*a*u + b*v + d\n",
    "    gv = b*u + 2*c*v + e\n",
    "    return np.array((gu, gv))\n",
    "\n",
    "# パラメータの初期値\n",
    "initial_param = np.array([0, 0])\n",
    "args = (2, 3, 7, 8, 9, 10)"
   ]
  },
  {
   "cell_type": "code",
   "execution_count": 17,
   "metadata": {
    "collapsed": false
   },
   "outputs": [
    {
     "name": "stdout",
     "output_type": "stream",
     "text": [
      "Optimization terminated successfully.\n",
      "         Current function value: 1.617021\n",
      "         Iterations: 2\n",
      "         Function evaluations: 5\n",
      "         Gradient evaluations: 5\n",
      "conjugate gradient: [-1.80851064 -0.25531915]\n"
     ]
    }
   ],
   "source": [
    "# Conjugate Gradientによるコスト関数最小化\n",
    "param = optimize.fmin_cg(J, initial_param, fprime=gradient, args=args)\n",
    "print(\"conjugate gradient:\", param)"
   ]
  },
  {
   "cell_type": "code",
   "execution_count": 18,
   "metadata": {
    "collapsed": false
   },
   "outputs": [
    {
     "name": "stdout",
     "output_type": "stream",
     "text": [
      "Optimization terminated successfully.\n",
      "         Current function value: 1.617021\n",
      "         Iterations: 2\n",
      "         Function evaluations: 5\n",
      "         Gradient evaluations: 5\n",
      "BFGS: [-1.80851064 -0.25531915]\n"
     ]
    }
   ],
   "source": [
    "# BFGSによるコスト関数最小化\n",
    "param = optimize.fmin_bfgs(J, initial_param, fprime=gradient, args=args)\n",
    "print(\"BFGS:\", param)"
   ]
  },
  {
   "cell_type": "code",
   "execution_count": null,
   "metadata": {
    "collapsed": true
   },
   "outputs": [],
   "source": []
  },
  {
   "cell_type": "code",
   "execution_count": 25,
   "metadata": {
    "collapsed": false
   },
   "outputs": [
    {
     "name": "stdout",
     "output_type": "stream",
     "text": [
      "     fun: 1.4791141972893971e-31\n",
      "    hess: array([[6, 2],\n",
      "       [2, 2]])\n",
      "     jac: array([ -4.44089210e-16,   4.44089210e-16])\n",
      " message: 'Optimization terminated successfully.'\n",
      "    nfev: 6\n",
      "    nhev: 5\n",
      "     nit: 5\n",
      "    njev: 6\n",
      "  status: 0\n",
      " success: True\n",
      "       x: array([ -2.22044605e-16,   4.44089210e-16])\n"
     ]
    }
   ],
   "source": [
    "def objectiveFunction(x):\n",
    "    # 目的関数\n",
    "    # f(x,y) = 3*x1^2 + 2*x1*x2 + x2^2\n",
    "    f = 3*x[0]**2 + 2*x[0]*x[1] + x[1]**2\n",
    "    return f\n",
    "\n",
    "def gradient(x):\n",
    "    # 勾配ベクトル\n",
    "    g = np.array([6*x[0] + 2*x[1], 2*x[0] + 2*x[1]])\n",
    "    return g\n",
    "\n",
    "def Hessian(x):\n",
    "    # ヘッセ行列\n",
    "    h = np.array([[6, 2],[2, 2]])\n",
    "    return h\n",
    "\n",
    "x0 = [10.0, 10.0]\n",
    "res = optimize.minimize(objectiveFunction, x0, jac=gradient, hess=Hessian, method=\"trust-ncg\")\n",
    "print(res)"
   ]
  },
  {
   "cell_type": "code",
   "execution_count": 30,
   "metadata": {
    "collapsed": false
   },
   "outputs": [
    {
     "name": "stdout",
     "output_type": "stream",
     "text": [
      "      fun: 1.232595164407831e-32\n",
      " hess_inv: array([[ 0.25, -0.25],\n",
      "       [-0.25,  0.75]])\n",
      "      jac: array([ -2.22044605e-16,  -2.22044605e-16])\n",
      "  message: 'Optimization terminated successfully.'\n",
      "     nfev: 5\n",
      "      nit: 3\n",
      "     njev: 5\n",
      "   status: 0\n",
      "  success: True\n",
      "        x: array([  0.00000000e+00,  -1.11022302e-16])\n"
     ]
    }
   ],
   "source": [
    "res = optimize.minimize(objectiveFunction, x0, jac=gradient, method=\"bfgs\")\n",
    "print(res)"
   ]
  },
  {
   "cell_type": "code",
   "execution_count": 60,
   "metadata": {
    "collapsed": false
   },
   "outputs": [],
   "source": [
    "iris = datasets.load_iris()\n",
    "X = iris.data[:, :2]  # we only take the first two features.\n",
    "y = iris.target"
   ]
  },
  {
   "cell_type": "code",
   "execution_count": 61,
   "metadata": {
    "collapsed": false
   },
   "outputs": [
    {
     "data": {
      "text/plain": [
       "(150, 2)"
      ]
     },
     "execution_count": 61,
     "metadata": {},
     "output_type": "execute_result"
    }
   ],
   "source": [
    "X.shape"
   ]
  },
  {
   "cell_type": "code",
   "execution_count": 63,
   "metadata": {
    "collapsed": false
   },
   "outputs": [
    {
     "data": {
      "text/plain": [
       "array([0, 0, 0, 0, 0, 0, 0, 0, 0, 0, 0, 0, 0, 0, 0, 0, 0, 0, 0, 0, 0, 0, 0,\n",
       "       0, 0, 0, 0, 0, 0, 0, 0, 0, 0, 0, 0, 0, 0, 0, 0, 0, 0, 0, 0, 0, 0, 0,\n",
       "       0, 0, 0, 0, 1, 1, 1, 1, 1, 1, 1, 1, 1, 1, 1, 1, 1, 1, 1, 1, 1, 1, 1,\n",
       "       1, 1, 1, 1, 1, 1, 1, 1, 1, 1, 1, 1, 1, 1, 1, 1, 1, 1, 1, 1, 1, 1, 1,\n",
       "       1, 1, 1, 1, 1, 1, 1, 1, 2, 2, 2, 2, 2, 2, 2, 2, 2, 2, 2, 2, 2, 2, 2,\n",
       "       2, 2, 2, 2, 2, 2, 2, 2, 2, 2, 2, 2, 2, 2, 2, 2, 2, 2, 2, 2, 2, 2, 2,\n",
       "       2, 2, 2, 2, 2, 2, 2, 2, 2, 2, 2, 2])"
      ]
     },
     "execution_count": 63,
     "metadata": {},
     "output_type": "execute_result"
    }
   ],
   "source": [
    "y"
   ]
  },
  {
   "cell_type": "markdown",
   "metadata": {},
   "source": [
    "### 距離学習の練習"
   ]
  },
  {
   "cell_type": "code",
   "execution_count": 44,
   "metadata": {
    "collapsed": false
   },
   "outputs": [
    {
     "data": {
      "text/plain": [
       "array([[1, 0],\n",
       "       [0, 1]])"
      ]
     },
     "execution_count": 44,
     "metadata": {},
     "output_type": "execute_result"
    }
   ],
   "source": [
    "M = np.array([[1,0],[0,1]])\n",
    "M"
   ]
  },
  {
   "cell_type": "code",
   "execution_count": 48,
   "metadata": {
    "collapsed": false
   },
   "outputs": [
    {
     "data": {
      "text/plain": [
       "array([[ 0.        ,  0.53851648,  0.5       , ...,  1.48660687,\n",
       "         1.1045361 ,  0.94339811],\n",
       "       [ 0.53851648,  0.        ,  0.28284271, ...,  1.6       ,\n",
       "         1.36014705,  1.        ],\n",
       "       [ 0.5       ,  0.28284271,  0.        , ...,  1.81107703,\n",
       "         1.5132746 ,  1.21655251],\n",
       "       ..., \n",
       "       [ 1.48660687,  1.6       ,  1.81107703, ...,  0.        ,\n",
       "         0.5       ,  0.6       ],\n",
       "       [ 1.1045361 ,  1.36014705,  1.5132746 , ...,  0.5       ,\n",
       "         0.        ,  0.5       ],\n",
       "       [ 0.94339811,  1.        ,  1.21655251, ...,  0.6       ,\n",
       "         0.5       ,  0.        ]])"
      ]
     },
     "execution_count": 48,
     "metadata": {},
     "output_type": "execute_result"
    }
   ],
   "source": [
    "euclidean_distances(X, X)"
   ]
  },
  {
   "cell_type": "code",
   "execution_count": 55,
   "metadata": {
    "collapsed": false
   },
   "outputs": [
    {
     "data": {
      "text/plain": [
       "array([[ 0.        ,  0.53851648,  0.5       , ...,  1.48660687,\n",
       "         1.1045361 ,  0.94339811],\n",
       "       [ 0.53851648,  0.        ,  0.28284271, ...,  1.6       ,\n",
       "         1.36014705,  1.        ],\n",
       "       [ 0.5       ,  0.28284271,  0.        , ...,  1.81107703,\n",
       "         1.5132746 ,  1.21655251],\n",
       "       ..., \n",
       "       [ 1.48660687,  1.6       ,  1.81107703, ...,  0.        ,\n",
       "         0.5       ,  0.6       ],\n",
       "       [ 1.1045361 ,  1.36014705,  1.5132746 , ...,  0.5       ,\n",
       "         0.        ,  0.5       ],\n",
       "       [ 0.94339811,  1.        ,  1.21655251, ...,  0.6       ,\n",
       "         0.5       ,  0.        ]])"
      ]
     },
     "execution_count": 55,
     "metadata": {},
     "output_type": "execute_result"
    }
   ],
   "source": [
    "pairwise_distances(X, Y=None, metric='euclidean', n_jobs=1)"
   ]
  },
  {
   "cell_type": "code",
   "execution_count": 56,
   "metadata": {
    "collapsed": false
   },
   "outputs": [
    {
     "data": {
      "text/plain": [
       "array([[ 0.        ,  0.53851648,  0.5       , ...,  1.48660687,\n",
       "         1.1045361 ,  0.94339811],\n",
       "       [ 0.53851648,  0.        ,  0.28284271, ...,  1.6       ,\n",
       "         1.36014705,  1.        ],\n",
       "       [ 0.5       ,  0.28284271,  0.        , ...,  1.81107703,\n",
       "         1.5132746 ,  1.21655251],\n",
       "       ..., \n",
       "       [ 1.48660687,  1.6       ,  1.81107703, ...,  0.        ,\n",
       "         0.5       ,  0.6       ],\n",
       "       [ 1.1045361 ,  1.36014705,  1.5132746 , ...,  0.5       ,\n",
       "         0.        ,  0.5       ],\n",
       "       [ 0.94339811,  1.        ,  1.21655251, ...,  0.6       ,\n",
       "         0.5       ,  0.        ]])"
      ]
     },
     "execution_count": 56,
     "metadata": {},
     "output_type": "execute_result"
    }
   ],
   "source": [
    "pairwise_distances(X, Y=X, metric='euclidean')"
   ]
  },
  {
   "cell_type": "code",
   "execution_count": 83,
   "metadata": {
    "collapsed": false
   },
   "outputs": [
    {
     "data": {
      "text/plain": [
       "array([[ 0.        ,  0.53851648,  0.5       , ...,  1.48660687,\n",
       "         1.1045361 ,  0.94339811],\n",
       "       [ 0.53851648,  0.        ,  0.28284271, ...,  1.6       ,\n",
       "         1.36014705,  1.        ],\n",
       "       [ 0.5       ,  0.28284271,  0.        , ...,  1.81107703,\n",
       "         1.5132746 ,  1.21655251],\n",
       "       ..., \n",
       "       [ 1.48660687,  1.6       ,  1.81107703, ...,  0.        ,\n",
       "         0.5       ,  0.6       ],\n",
       "       [ 1.1045361 ,  1.36014705,  1.5132746 , ...,  0.5       ,\n",
       "         0.        ,  0.5       ],\n",
       "       [ 0.94339811,  1.        ,  1.21655251, ...,  0.6       ,\n",
       "         0.5       ,  0.        ]])"
      ]
     },
     "execution_count": 83,
     "metadata": {},
     "output_type": "execute_result"
    }
   ],
   "source": [
    "dist = neighbors.DistanceMetric.get_metric('mahalanobis', V = M)\n",
    "dist.pairwise(X, X)"
   ]
  },
  {
   "cell_type": "code",
   "execution_count": 99,
   "metadata": {
    "collapsed": false
   },
   "outputs": [
    {
     "data": {
      "text/plain": [
       "25745.993307778244"
      ]
     },
     "execution_count": 99,
     "metadata": {},
     "output_type": "execute_result"
    }
   ],
   "source": [
    "np.sum(np.ravel(dist.pairwise(X, X)))"
   ]
  },
  {
   "cell_type": "code",
   "execution_count": 91,
   "metadata": {
    "collapsed": false
   },
   "outputs": [],
   "source": [
    "X_1 = X[y == 0]\n",
    "X_2 = X[y == 1]\n",
    "X_3 = X[y == 2]\n",
    "X_all = list(itertools.combinations([X_1, X_2, X_3], 2))"
   ]
  },
  {
   "cell_type": "markdown",
   "metadata": {},
   "source": [
    "### 距離学習の目的関数"
   ]
  },
  {
   "cell_type": "code",
   "execution_count": 112,
   "metadata": {
    "collapsed": true
   },
   "outputs": [],
   "source": [
    "def objectiveFunction(X_all, M):\n",
    "    g = 0.0\n",
    "    dist = neighbors.DistanceMetric.get_metric('mahalanobis', V = M)\n",
    "    for pairs in X_all :\n",
    "        dist_matrix = dist.pairwise(pairs[0],pairs[1])\n",
    "        g += np.sum(np.ravel(dist_matrix))\n",
    "    return g"
   ]
  },
  {
   "cell_type": "code",
   "execution_count": 113,
   "metadata": {
    "collapsed": false
   },
   "outputs": [
    {
     "data": {
      "text/plain": [
       "10146.028202844023"
      ]
     },
     "execution_count": 113,
     "metadata": {},
     "output_type": "execute_result"
    }
   ],
   "source": [
    "objectiveFunction(X_all, M)"
   ]
  },
  {
   "cell_type": "markdown",
   "metadata": {},
   "source": [
    "### 制約条件の関数"
   ]
  },
  {
   "cell_type": "code",
   "execution_count": 117,
   "metadata": {
    "collapsed": false
   },
   "outputs": [],
   "source": [
    "X_all = [X_1, X_2, X_3]\n",
    "def constraintFunction(X_all, M):\n",
    "    f = 0.0\n",
    "    dist = neighbors.DistanceMetric.get_metric('mahalanobis', V = M)\n",
    "    for X_same_class in X_all :\n",
    "        dist_matrix = dist.pairwise(X_same_class)\n",
    "        f += np.sum(dist_matrix * dist_matrix)\n",
    "    return f"
   ]
  },
  {
   "cell_type": "code",
   "execution_count": 118,
   "metadata": {
    "collapsed": false
   },
   "outputs": [
    {
     "data": {
      "text/plain": [
       "5599.1200000000008"
      ]
     },
     "execution_count": 118,
     "metadata": {},
     "output_type": "execute_result"
    }
   ],
   "source": [
    "constraintFunction(X_all, M)"
   ]
  },
  {
   "cell_type": "markdown",
   "metadata": {},
   "source": [
    "### フロベニウスノルム"
   ]
  },
  {
   "cell_type": "code",
   "execution_count": 110,
   "metadata": {
    "collapsed": true
   },
   "outputs": [],
   "source": [
    "def getFrobenius(M):\n",
    "    np.sum(M * M)"
   ]
  },
  {
   "cell_type": "code",
   "execution_count": null,
   "metadata": {
    "collapsed": true
   },
   "outputs": [],
   "source": []
  }
 ],
 "metadata": {
  "kernelspec": {
   "display_name": "Python 3",
   "language": "python",
   "name": "python3"
  }
 },
 "nbformat": 4,
 "nbformat_minor": 0
}
